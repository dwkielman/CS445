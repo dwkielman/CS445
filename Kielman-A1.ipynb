{
 "cells": [
  {
   "cell_type": "markdown",
   "metadata": {},
   "source": [
    "$\\newcommand{\\xv}{\\mathbf{x}}\n",
    "\\newcommand{\\Xv}{\\mathbf{X}}\n",
    "\\newcommand{\\yv}{\\mathbf{y}}\n",
    "\\newcommand{\\zv}{\\mathbf{z}}\n",
    "\\newcommand{\\av}{\\mathbf{a}}\n",
    "\\newcommand{\\Wv}{\\mathbf{W}}\n",
    "\\newcommand{\\wv}{\\mathbf{w}}\n",
    "\\newcommand{\\tv}{\\mathbf{t}}\n",
    "\\newcommand{\\Tv}{\\mathbf{T}}\n",
    "\\newcommand{\\muv}{\\boldsymbol{\\mu}}\n",
    "\\newcommand{\\sigmav}{\\boldsymbol{\\sigma}}\n",
    "\\newcommand{\\phiv}{\\boldsymbol{\\phi}}\n",
    "\\newcommand{\\Phiv}{\\boldsymbol{\\Phi}}\n",
    "\\newcommand{\\Sigmav}{\\boldsymbol{\\Sigma}}\n",
    "\\newcommand{\\Lambdav}{\\boldsymbol{\\Lambda}}\n",
    "\\newcommand{\\half}{\\frac{1}{2}}\n",
    "\\newcommand{\\argmax}[1]{\\underset{#1}{\\operatorname{argmax}}}\n",
    "\\newcommand{\\argmin}[1]{\\underset{#1}{\\operatorname{argmin}}}$"
   ]
  },
  {
   "cell_type": "markdown",
   "metadata": {},
   "source": [
    "# Assignment 1: Stochastic Gradient Descent for Simple Models"
   ]
  },
  {
   "cell_type": "markdown",
   "metadata": {},
   "source": [
    "Daniel Kielman\n",
    "dwkielman@gmail.com"
   ]
  },
  {
   "cell_type": "markdown",
   "metadata": {},
   "source": [
    "## Overview"
   ]
  },
  {
   "cell_type": "markdown",
   "metadata": {},
   "source": [
    "In this assignment, we will be using the derivation of the gradient of the sum of squared errors with respect to the linear model's weight and the stochastic gradient descent formula for updating the model's weights in an effort to minimize the error of the four simple models."
   ]
  },
  {
   "cell_type": "markdown",
   "metadata": {},
   "source": [
    "## Linear Model"
   ]
  },
  {
   "cell_type": "markdown",
   "metadata": {},
   "source": [
    "Using the source [04 Linear Regression Using Stochastic Gradient Descent (SGD)](http://nbviewer.ipython.org/url/www.cs.colostate.edu/~anderson/cs445/notebooks/04%20Linear%20Regression%20Using%20Stochastic%20Gradient%20Descent%20(SGD).ipynb), we begin with $g$ being an affine (linear + constant) function of $x$,\n",
    "\n",
    "$$\n",
    "    g(\\xv;\\wv) = w_0 + w_1 x_1 + w_2 x_2 + \\cdots + w_D x_D = \\xv^T \\wv\n",
    "$$\n",
    "\n",
    "having parameters $\\wv = (w_0, w_1, w_2, \\ldots, w_D)$, the solution can be derived to:\n",
    "\n",
    "$$\n",
    "\\begin{align*}\n",
    "\\wv_{\\mbox{best}} &= \\argmin{\\wv} \\sum_{n=1}^N (t_n - g(\\xv_n , \\wv))^2\\\\\n",
    " & = \\argmin{\\wv} \\sum_{n=1}^N (t_n - \\xv_n^T \\wv)^2\n",
    " \\end{align*}\n",
    "$$\n",
    "\n",
    "This can be done by rewriting the above summation as a matrix expression,\n",
    "taking its derivative with respect to $\\wv$, setting the derivative\n",
    "equal to zero, and solving for $\\wv$.\n",
    "\n",
    "$$\n",
    "      \\wv = (X^T X)^{-1} X^T T\n",
    "$$\n",
    "\n",
    "To avoid dealing with matrix operations on huge\n",
    "matrices, we can derive a sequential algorithm for finding $\\wv$ by\n",
    "using the fact that a derivative of a sum is the sum of the\n",
    "derivatives.  We will now express this derivative as a gradient, which is a vector or matrix of derivatives."
   ]
  },
  {
   "cell_type": "markdown",
   "metadata": {},
   "source": [
    "$$\n",
    "\\begin{align*}\n",
    "g(\\xv_n, \\wv) &= w_0 + w_1 x_{n,1} + w_2 x_{n,2} + \\cdots + w_D x_{n,D} = \\xv_n^T \\wv\\\\\n",
    "\\end{align*}\n",
    "$$\n",
    "\n",
    "Our Error function ($E$) is given a matrix of inputs, sampled one per row ($X$), and a matrix of our desired outputs, sampled one per row ($T$), and a parameter $w$, the Error is the Sum of the Squared Errors still, Target minus Prediction. \n",
    "\n",
    "$$\n",
    "\\begin{align*}\n",
    "E(\\Xv, \\Tv, \\wv) &= \\sum_{n=1}^N (t_n - g(\\xv_n, \\wv)^2\\\\\n",
    "\\nabla_\\wv E(\\Xv, \\Tv, \\wv) &= \\nabla_\\wv \\left ( \\sum_{n=1}^N (t_n - g(\\xv_n, \\wv)^2 \\right )\\\\\n",
    "&= \n",
    "\\sum_{n=1}^N \\nabla_\\wv (t_n - g(\\xv_n, \\wv))^2\\\\\n",
    "&= \n",
    "\\sum_{n=1}^N 2 (t_n - g(\\xv_n, \\wv)) \\nabla_\\wv (t_n - g(\\xv_n, \\wv)) \\\\\n",
    "&= \n",
    "\\sum_{n=1}^N 2 (t_n - g(\\xv_n, \\wv)) (-1) \\nabla_\\wv g(\\xv_n, \\wv) \\\\\n",
    "&= \n",
    "\\sum_{n=1}^N 2 (t_n - g(\\xv_n, \\wv)) (-1) \\nabla_\\wv (\\xv_n^T \\wv) \\\\\n",
    "&= \n",
    "\\sum_{n=1}^N 2 (t_n - g(\\xv_n, \\wv)) (-1) \\xv_n \\\\\n",
    "&= \n",
    "-2 \\sum_{n=1}^N (t_n - g(\\xv_n, \\wv))  \\xv_n \\\\\n",
    "\\end{align*}\n",
    "$$"
   ]
  },
  {
   "cell_type": "markdown",
   "metadata": {},
   "source": [
    "## Imports"
   ]
  },
  {
   "cell_type": "code",
   "execution_count": 1,
   "metadata": {
    "collapsed": true
   },
   "outputs": [],
   "source": [
    "import numpy as np\n",
    "import matplotlib.pyplot as plt\n",
    "%matplotlib inline"
   ]
  },
  {
   "cell_type": "markdown",
   "metadata": {},
   "source": [
    "# Functions"
   ]
  },
  {
   "cell_type": "markdown",
   "metadata": {},
   "source": [
    "## train_linear"
   ]
  },
  {
   "cell_type": "markdown",
   "metadata": {},
   "source": [
    "returns a two-dimensional matrix of one column containing the resulting weights and a list of RMSE values, calculated after each epoch, using the rmse function"
   ]
  },
  {
   "cell_type": "code",
   "execution_count": 2,
   "metadata": {
    "collapsed": true
   },
   "outputs": [],
   "source": [
    "def train_linear(X, T, learning_rate, n_epochs):\n",
    "    # Initialize and add a column of 1s\n",
    "    T1 = np.insert(T, 0, 1, 1)\n",
    "    X1 = np.insert(X, 0, 1, 1)\n",
    "    \n",
    "    # Start weight array at a value of 0\n",
    "    w = np.zeros((X1.shape[1], T.shape[1]))\n",
    "    e_trace_list = list()\n",
    "\n",
    "    # updating weights after going through each sample\n",
    "    for iter in range(n_epochs):\n",
    "        # for each sample in the iteration\n",
    "        for n in range(X1.shape[0]):\n",
    "            # Calculate prediction using current model, w\n",
    "            predicted = X1[n:n+1, :] @ w\n",
    "            # Update w using negative gradient of error for nth sample\n",
    "            w += learning_rate * X1[n:n+1, :].T * (T[n:n+1, :] - predicted)\n",
    "\n",
    "        # update the error list to pass back\n",
    "        predict = use_linear(w, X)\n",
    "        e_trace_list.append(rmse(predict, T))\n",
    "\n",
    "    return (w, e_trace_list)"
   ]
  },
  {
   "cell_type": "markdown",
   "metadata": {},
   "source": [
    "## use_linear"
   ]
  },
  {
   "cell_type": "markdown",
   "metadata": {},
   "source": [
    "returns a two-dimensional matrix of one column containing the predicted values for each value in T"
   ]
  },
  {
   "cell_type": "code",
   "execution_count": 3,
   "metadata": {
    "collapsed": true
   },
   "outputs": [],
   "source": [
    "def use_linear(model, X):\n",
    "    return np.insert(X, 0, 1, 1) @ model"
   ]
  },
  {
   "cell_type": "markdown",
   "metadata": {},
   "source": [
    "## rmse"
   ]
  },
  {
   "cell_type": "markdown",
   "metadata": {},
   "source": [
    "returns the square root of the mean of the squared error between predict and T"
   ]
  },
  {
   "cell_type": "code",
   "execution_count": 4,
   "metadata": {
    "collapsed": true
   },
   "outputs": [],
   "source": [
    "def rmse(predict, T):\n",
    "    return np.sqrt(np.mean((predict - T)**2))"
   ]
  },
  {
   "cell_type": "markdown",
   "metadata": {},
   "source": [
    "# Examples"
   ]
  },
  {
   "cell_type": "code",
   "execution_count": 5,
   "metadata": {
    "collapsed": true
   },
   "outputs": [],
   "source": [
    "n_samples = 100\n",
    "X = np.linspace(0, 10, n_samples).reshape((-1, 1))\n",
    "T = 0.2 - 0.03 * X + np.random.normal(0, 0.05, (n_samples, 1)) + 0.01 * (X - 8)**3\n",
    "T = -0.8 - 0.04 * X  + 0.003 * (X - 2)**3"
   ]
  },
  {
   "cell_type": "code",
   "execution_count": 6,
   "metadata": {},
   "outputs": [
    {
     "name": "stdout",
     "output_type": "stream",
     "text": [
      "0.2631104380467893\n"
     ]
    }
   ],
   "source": [
    "w, error_trace = train_linear(X, T, 0.001, 500)\n",
    "print(rmse(use_linear(w, X), T))"
   ]
  },
  {
   "cell_type": "code",
   "execution_count": 7,
   "metadata": {},
   "outputs": [
    {
     "data": {
      "image/png": "[encoded data removed]",
      "text/plain": [
       "<Figure size 720x432 with 2 Axes>"
      ]
     },
     "metadata": {
      "needs_background": "light"
     },
     "output_type": "display_data"
    }
   ],
   "source": [
    "plt.figure(figsize=(10, 6))\n",
    "plt.subplot(1, 2, 1)\n",
    "plt.plot(error_trace)\n",
    "\n",
    "plt.subplot(1, 2, 2)\n",
    "plt.plot(X, T, 'o', label='Target')\n",
    "plt.plot(X, use_linear(w, X), 'o', label='Prediction')\n",
    "more_xs = np.linspace(-5, 15, 100).reshape((-1, 1))\n",
    "plt.plot(more_xs, use_linear(w, more_xs), label='more xs')\n",
    "plt.legend();"
   ]
  },
  {
   "cell_type": "markdown",
   "metadata": {},
   "source": [
    "## Analysis"
   ]
  },
  {
   "cell_type": "markdown",
   "metadata": {},
   "source": [
    "Looking at the results, we can see that after 500 epochs there is not much change going on anymore. If the Learning Rate was altered to be something smaller then this might be less exponential. In the graph on the right the green line represents the linear line and we can see that our prediction is matching very well in the mid-lower left around 4 on the x-axis and upper right near 9 on the x-axis, with the largest gap around the 5 point on the x-axis."
   ]
  },
  {
   "cell_type": "markdown",
   "metadata": {},
   "source": [
    "## Tanh Model"
   ]
  },
  {
   "cell_type": "markdown",
   "metadata": {},
   "source": [
    "Given the weight vector, $\\wv$, as a column vector, and the $n^{th}$ input sample, $\\xv_n$, as a column vector, the prediction for the above linear model can be written as\n",
    "\n",
    "$$ y_n = \\xv_n^T \\wv$$\n",
    "\n",
    "The prediction for our $\\tanh$ model is given by\n",
    "\n",
    "$$ y_n = \\tanh (\\xv_n^T \\wv) $$\n",
    "\n",
    "We begin by finding the derivative of this as follows (Let $f$ represent $\\tanh$):\n",
    "\n",
    "$$\n",
    "\\begin{align*}\n",
    "\\frac{\\partial}{\\partial w} f(x_n w) &= \\frac{\\partial}{\\partial x_n w} f(x_n w) \\times \\frac{\\partial}{\\partial w} x_n w\\\\\n",
    "&=\n",
    "f'(x_n w) \\times x_n\n",
    "\\end{align*}\n",
    "$$\n",
    "\n",
    "Thus, if we sovle for only the derivative of $\\tanh (y_n)$, we can use this gradient of the sum of squared error function with respect to the weights in our training method and simply multiply the $\\wv$ by the gradient in our previous method.\n",
    "\n",
    "To calculate the gradient for the tanh function we perform the following (source: https://theclevermachine.wordpress.com/2014/09/08/derivation-derivatives-for-common-neural-network-activation-functions/):\n",
    "\n",
    "$$\n",
    "\\begin{align*}\n",
    "\\acute{tanh (y_n)} &= \\frac{\\partial sinh(y_n)} {\\partial y_n\\cosh(y_n)} \\\\\n",
    "&= \n",
    "\\frac{\\frac{\\partial}{\\partial y_n} sinh(y_n) \\times cosh(y_n) - \\frac{\\partial }{\\partial y_n} cosh(y_n) \\times \\sinh(y_n)}\n",
    "{cosh^2(y_n)} \\\\\n",
    "&=\n",
    "\\frac{cosh^2(y_n) \\times \\sinh^2(y_n)}\n",
    "{cosh^2(y_n)} \\\\\n",
    "&=\n",
    "1 - \\frac{sinh^2(y_n)}{cosh^2(y_n)} \\\\\n",
    "&=\n",
    "1 - tanh^2(y_n) \\\\\n",
    "\\end{align*}\n",
    "$$"
   ]
  },
  {
   "cell_type": "markdown",
   "metadata": {},
   "source": [
    "# Functions"
   ]
  },
  {
   "cell_type": "markdown",
   "metadata": {},
   "source": [
    "## train_tanh"
   ]
  },
  {
   "cell_type": "markdown",
   "metadata": {},
   "source": [
    "returns a matrix of one column containing the resulting weights and a list of RMSE values, calculated after each epoch, using the rmse function"
   ]
  },
  {
   "cell_type": "code",
   "execution_count": 8,
   "metadata": {
    "collapsed": true
   },
   "outputs": [],
   "source": [
    "def train_tanh(X, T, learning_rate, number_of_iterations):\n",
    "    # Initialize and add a column of 1s\n",
    "    T1 = np.insert(T, 0, 1, 1)\n",
    "    X1 = np.insert(X, 0, 1, 1)\n",
    "    \n",
    "    # Start weight array at a value of 0\n",
    "    w = np.zeros((X1.shape[1], T.shape[1]))\n",
    "    e_trace_list = list()\n",
    "    \n",
    "    for iter in range(number_of_iterations):\n",
    "        for n in range(X1.shape[0]):\n",
    "            # Calculate prediction using current model, w\n",
    "            predicted = np.tanh(X1[n:n+1, :] @ w)\n",
    "            # Update w using negative gradient of error for nth sample multiplied by the gradient of tanh\n",
    "            w += learning_rate * X1[n:n+1, :].T * (T[n:n+1, :] - predicted) * (1 - predicted**2)\n",
    "        \n",
    "        predict = use_tanh(w, X)\n",
    "        e_trace_list.append(rmse(predict, T))\n",
    "\n",
    "    return (w, e_trace_list)"
   ]
  },
  {
   "cell_type": "markdown",
   "metadata": {},
   "source": [
    "## use_tanh"
   ]
  },
  {
   "cell_type": "markdown",
   "metadata": {},
   "source": [
    "returns a matrix of one column containing the predicted values for each value in T"
   ]
  },
  {
   "cell_type": "code",
   "execution_count": 9,
   "metadata": {
    "collapsed": true
   },
   "outputs": [],
   "source": [
    "def use_tanh(model, X):\n",
    "    return np.tanh(np.insert(X, 0, 1, 1) @ model)"
   ]
  },
  {
   "cell_type": "markdown",
   "metadata": {},
   "source": [
    "# Examples"
   ]
  },
  {
   "cell_type": "code",
   "execution_count": 10,
   "metadata": {},
   "outputs": [
    {
     "name": "stdout",
     "output_type": "stream",
     "text": [
      "0.15179499396092516\n"
     ]
    }
   ],
   "source": [
    "w, error_trace = train_tanh(X, T, 0.001, 500)\n",
    "print(rmse(use_tanh(w, X), T))"
   ]
  },
  {
   "cell_type": "code",
   "execution_count": 11,
   "metadata": {},
   "outputs": [
    {
     "data": {
      "image/png": "[encoded data removed]",
      "text/plain": [
       "<Figure size 720x432 with 2 Axes>"
      ]
     },
     "metadata": {
      "needs_background": "light"
     },
     "output_type": "display_data"
    }
   ],
   "source": [
    "plt.figure(figsize=(10, 6))\n",
    "plt.subplot(1, 2, 1)\n",
    "plt.plot(error_trace)\n",
    "\n",
    "plt.subplot(1, 2, 2)\n",
    "plt.plot(X, T, 'o', label='Target')\n",
    "plt.plot(X, use_tanh(w, X), 'o', label='Prediction')\n",
    "# more_xs = np.linspace(-2, 12, 100).reshape((-1, 1))\n",
    "plt.plot(more_xs, use_tanh(w, more_xs), label='more xs')\n",
    "\n",
    "plt.legend();"
   ]
  },
  {
   "cell_type": "markdown",
   "metadata": {},
   "source": [
    "## Analysis"
   ]
  },
  {
   "cell_type": "markdown",
   "metadata": {},
   "source": [
    "Looking at the results, the errors are still going down but it is not as fast as before. If we used a longer number of epochs then we we may get some more results and see if the learning rate continues to go down. In the right graph, the green line shows the tanh function and our target is fitting it slightly better this time though still not perfect. We can see that our prediction is matching well in the lower left around 7 and in the upper right around 9, but the biggest gap in error is in the middle around the 5 mark on the x axis."
   ]
  },
  {
   "cell_type": "markdown",
   "metadata": {},
   "source": [
    "## Grading\n",
    "\n",
    "Your notebook will be run and graded automatically.  Test this grading process by first downloading [A1grader.tar](http://www.cs.colostate.edu/~anderson/cs445/notebooks/A1grader.tar) and extract `A1grader.py` from it. Run the code in the following cell to demonstrate an example grading session.  You should see a perfect execution score of 75 out of 75 points if your functions are defined correctly. The remaining 25 points will be based on the results you obtain from the energy data and on your discussions.\n",
    "\n",
    "For the grading script to run correctly, you must first name this notebook as 'Lastname-A1.ipynb' with 'Lastname' being your last name, and then save this notebook.\n",
    "\n",
    "A different, but similar, grading script will be used to grade your checked-in notebook.  It will include additional tests.  You need not include code to test that the values passed in to your functions are the correct form.  "
   ]
  },
  {
   "cell_type": "code",
   "execution_count": 12,
   "metadata": {},
   "outputs": [
    {
     "name": "stdout",
     "output_type": "stream",
     "text": [
      "\n",
      "======================= Code Execution =======================\n",
      "\n",
      "Extracting python code from notebook named 'Kielman-A1.ipynb' and storing in notebookcode.py\n",
      "Removing all statements that are not function or class defs or import statements.\n",
      "\n",
      "Testing\n",
      "  X = np.array([1, 2, 3, 4, 5, 8, 9, 11]).reshape((-1, 1))\n",
      "  T = (((X - 5) * 0.05 +  (X * 0.2) **5) / 5.0 - 5.5) / 6\n",
      "  w, errors = train_linear(X, T, 0.01, 1000)\n",
      "\n",
      "--- 15/15 points. Returned correct values.\n",
      "\n",
      "Testing\n",
      "  prediction = use_linear(w, X)\n",
      "\n",
      "--- 15/15 points. Returned correct values.\n",
      "\n",
      "Testing\n",
      "  rmse_error = rmse(prediction, T)\n",
      "\n",
      "--- 15/15 points. Returned correct values.\n",
      "\n",
      "Testing\n",
      "  w, errors = train_tanh(X, T, 0.01, 1000)\n",
      "\n",
      "--- 15/15 points. Returned correct values.\n",
      "\n",
      "Testing\n",
      "  prediction = use_tanh(w, X)\n",
      "\n",
      "--- 15/15 points. Returned correct values.\n",
      "\n",
      "C:\\Users\\Admin\\Spring 2019 Classes\\CS445 - Intro to Machine Learning\\HW1 Execution Grade is 75 / 75\n",
      "\n",
      " Remaining 25 points will be based on your text describing the derivation of gradients, explanations of code, and plots.\n",
      "\n",
      "C:\\Users\\Admin\\Spring 2019 Classes\\CS445 - Intro to Machine Learning\\HW1 FINAL GRADE is   / 100\n",
      "\n",
      "C:\\Users\\Admin\\Spring 2019 Classes\\CS445 - Intro to Machine Learning\\HW1 EXTRA CREDIT is   / 1\n"
     ]
    },
    {
     "data": {
      "text/plain": [
       "<Figure size 432x288 with 0 Axes>"
      ]
     },
     "metadata": {},
     "output_type": "display_data"
    }
   ],
   "source": [
    "%run -i \"A1grader.py\""
   ]
  },
  {
   "cell_type": "markdown",
   "metadata": {},
   "source": [
    "## Extra Credit\n",
    "\n",
    "Define two new functions to handle the logistic, or sigmoid, function model, \n",
    "\n",
    "$$ y_n = \\frac{1}{1 + e^{- \\xv_n^T \\wv}} $$"
   ]
  },
  {
   "cell_type": "markdown",
   "metadata": {},
   "source": [
    "## Anaylsis"
   ]
  },
  {
   "cell_type": "markdown",
   "metadata": {},
   "source": [
    "I attempted to sovle this using the derivative formula for the logistic function model found on this (https://theclevermachine.wordpress.com/2014/09/08/derivation-derivatives-for-common-neural-network-activation-functions/) site but unfortunately wasn't able to fully test my restuls even after modifying the data to not include 0. I feel that I somehow still am, hence getting a divide by zero error, but I've included my work here for the sake of having it documented."
   ]
  },
  {
   "cell_type": "code",
   "execution_count": 13,
   "metadata": {
    "collapsed": true
   },
   "outputs": [],
   "source": [
    "def train_logistic(X, T, learning_rate, number_of_iterations):\n",
    "    # Initialize and add a column of 1s\n",
    "    Ts1 = np.insert(T, 0, 1, 1)\n",
    "    Xs1 = np.insert(X, 0, 1, 1)\n",
    "    \n",
    "    # Start weight array at a value of 0\n",
    "    w = np.zeros((Xs1.shape[1], T.shape[1]))\n",
    "    e_trace_list = list()\n",
    "    \n",
    "    for iter in range(number_of_iterations):\n",
    "        for n in range(Xs1.shape[0]):\n",
    "            predicted = np.log(Xs1[n:n+1, :] @ w)\n",
    "            # Update w using derivative of error for nth sample multiplied by the gradient for logistic\n",
    "            w += learning_rate * Xs1[n:n+1, :].T * np.log(T[n:n+1, :] - predicted) * ((predicted) * (1 - predicted))\n",
    "            \n",
    "        predict = use_logistic(w, X)\n",
    "        e_trace_list.append(rmse(predict, T))\n",
    "\n",
    "    return (w, e_trace_list)"
   ]
  },
  {
   "cell_type": "code",
   "execution_count": 14,
   "metadata": {
    "collapsed": true
   },
   "outputs": [],
   "source": [
    "def use_logistic(model, X):\n",
    "    return np.log(np.insert(X, 0, 1, 1) @ model)"
   ]
  },
  {
   "cell_type": "code",
   "execution_count": 74,
   "metadata": {},
   "outputs": [
    {
     "name": "stderr",
     "output_type": "stream",
     "text": [
      "A1grader.py:14: RuntimeWarning: divide by zero encountered in log\n",
      "  \n",
      "A1grader.py:16: RuntimeWarning: invalid value encountered in multiply\n",
      "  # class TimeoutException(Exception):\n"
     ]
    },
    {
     "name": "stdout",
     "output_type": "stream",
     "text": [
      "nan\n"
     ]
    }
   ],
   "source": [
    "T = (T + 1) / 2\n",
    "w, error_trace = train_logistic(X, T, 0.001, 500)\n",
    "print(rmse(use_logistic(w, X), T))"
   ]
  },
  {
   "cell_type": "code",
   "execution_count": 88,
   "metadata": {},
   "outputs": [
    {
     "data": {
      "image/png": "[encoded data removed]",
      "text/plain": [
       "<Figure size 720x432 with 2 Axes>"
      ]
     },
     "metadata": {
      "needs_background": "light"
     },
     "output_type": "display_data"
    }
   ],
   "source": [
    "plt.figure(figsize=(10, 6))\n",
    "plt.subplot(1, 2, 1)\n",
    "plt.plot(error_trace)\n",
    "\n",
    "plt.subplot(1, 2, 2)\n",
    "plt.plot(X, T, 'o', label='Target')\n",
    "plt.plot(X, use_tanh(w, X), 'o', label='Prediction')\n",
    "# more_xs = np.linspace(-2, 12, 100).reshape((-1, 1))\n",
    "plt.plot(more_xs, use_tanh(w, more_xs), label='more xs')\n",
    "\n",
    "plt.legend();"
   ]
  },
  {
   "cell_type": "code",
   "execution_count": null,
   "metadata": {
    "collapsed": true
   },
   "outputs": [],
   "source": []
  }
 ],
 "metadata": {
  "kernelspec": {
   "display_name": "Python 3",
   "language": "python",
   "name": "python3"
  },
  "language_info": {
   "codemirror_mode": {
    "name": "ipython",
    "version": 3
   },
   "file_extension": ".py",
   "mimetype": "text/x-python",
   "name": "python",
   "nbconvert_exporter": "python",
   "pygments_lexer": "ipython3",
   "version": "3.6.1"
  }
 },
 "nbformat": 4,
 "nbformat_minor": 2
}
