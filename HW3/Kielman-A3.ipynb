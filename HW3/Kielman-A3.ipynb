{
 "cells": [
  {
   "cell_type": "markdown",
   "metadata": {},
   "source": [
    "# Table of Contents\n",
    "* [Assignment 3: Neural Network Regression with tanh and relu](#Assignment-3:-Neural-Network-Regression-with-tanh-and-relu)\n",
    "\t* [Overview](#Overview)\n",
    "\t* [Neural Network Code](#Neural-Network-Code)\n",
    "\t* [Neural Network Performance with Different Hidden Layer Structures and Numbers of Training Iterations](#Neural-Network-Performance-with-Different-Hidden-Layer-Structures-and-Numbers-of-Training-Iterations)\n",
    "\t\t* [Example with Toy Data](#Example-with-Toy-Data)\n",
    "\t\t* [Experiments with Automobile Data](#Experiments-with-Automobile-Data)\n",
    "\t* [Experiments with relu activation function](#Experiments-with-relu-activation-function)\n",
    "\t* [Text descriptions](#Text-descriptions)\n",
    "\t* [Grading and Check-in](#Grading-and-Check-in)\n",
    "\t* [Extra Credit](#Extra-Credit)\n"
   ]
  },
  {
   "cell_type": "markdown",
   "metadata": {},
   "source": [
    "$\\newcommand{\\xv}{\\mathbf{x}}\n",
    "\\newcommand{\\Xv}{\\mathbf{X}}\n",
    "\\newcommand{\\yv}{\\mathbf{y}}\n",
    "\\newcommand{\\zv}{\\mathbf{z}}\n",
    "\\newcommand{\\av}{\\mathbf{a}}\n",
    "\\newcommand{\\Wv}{\\mathbf{W}}\n",
    "\\newcommand{\\wv}{\\mathbf{w}}\n",
    "\\newcommand{\\tv}{\\mathbf{t}}\n",
    "\\newcommand{\\Tv}{\\mathbf{T}}\n",
    "\\newcommand{\\muv}{\\boldsymbol{\\mu}}\n",
    "\\newcommand{\\sigmav}{\\boldsymbol{\\sigma}}\n",
    "\\newcommand{\\phiv}{\\boldsymbol{\\phi}}\n",
    "\\newcommand{\\Phiv}{\\boldsymbol{\\Phi}}\n",
    "\\newcommand{\\Sigmav}{\\boldsymbol{\\Sigma}}\n",
    "\\newcommand{\\Lambdav}{\\boldsymbol{\\Lambda}}\n",
    "\\newcommand{\\half}{\\frac{1}{2}}\n",
    "\\newcommand{\\argmax}[1]{\\underset{#1}{\\operatorname{argmax}}}\n",
    "\\newcommand{\\argmin}[1]{\\underset{#1}{\\operatorname{argmin}}}$"
   ]
  },
  {
   "cell_type": "markdown",
   "metadata": {},
   "source": [
    "# Assignment 3: Neural Network Regression with tanh and relu"
   ]
  },
  {
   "cell_type": "markdown",
   "metadata": {},
   "source": [
    "Daniel Kielman dwkielman@gmail.com"
   ]
  },
  {
   "cell_type": "markdown",
   "metadata": {},
   "source": [
    "## Overview"
   ]
  },
  {
   "cell_type": "markdown",
   "metadata": {},
   "source": [
    "The goal of this assignment is to \n",
    "   * gain some experience in comparing different sized neural networks when applied to a data set, \n",
    "   * implement a different activation function, relu, and compare with Tanh, and\n",
    "   * learn about object-oriented programming in python and to gain some experience in comparing different sized neural networks when applied to a data set.\n",
    "\n",
    "Starting with the ```NeuralNetwork``` class from the lecture notes, you will create a new version of that class, apply it to a data set, and discuss the results. You will then create a second version, named ```NeuralNetwork_relu```, that uses the relu activation function instead of the tanh function."
   ]
  },
  {
   "cell_type": "markdown",
   "metadata": {},
   "source": [
    "## Neural Network Code"
   ]
  },
  {
   "cell_type": "markdown",
   "metadata": {},
   "source": [
    "Start with the ```NeuralNetwork``` class defined in lecture notes 09. Put that class definition as written into *neuralnetworks.py* into your current directory.  Also place *mlutilities.py* from lecture notes 09 in your current directory. If this is done correctly, then the following code should run and produce results similar to what is shown here."
   ]
  },
  {
   "cell_type": "code",
   "execution_count": 1,
   "metadata": {
    "collapsed": true
   },
   "outputs": [],
   "source": [
    "import numpy as np\n",
    "import matplotlib.pyplot as plt\n",
    "%matplotlib inline\n",
    "\n",
    "import neuralnetworks as nn\n",
    "import pandas as pd"
   ]
  },
  {
   "cell_type": "markdown",
   "metadata": {},
   "source": [
    "## Neural Network Performance with Different Hidden Layer Structures and Numbers of Training Iterations"
   ]
  },
  {
   "cell_type": "code",
   "execution_count": 2,
   "metadata": {
    "collapsed": true
   },
   "outputs": [],
   "source": [
    "def rmse(A, B):\n",
    "    return np.sqrt(np.mean((A - B)**2))"
   ]
  },
  {
   "cell_type": "code",
   "execution_count": 3,
   "metadata": {
    "collapsed": true
   },
   "outputs": [],
   "source": [
    "def run_parameters(Xtrain, Ttrain, Xtest, Ttest, epochs_list, nh_list, verbose=False):\n",
    "\n",
    "    n_inputs = Xtrain.shape[1]  # number of columns in X\n",
    "    n_outputs = Ttrain.shape[1]  # number of columns in T\n",
    "    \n",
    "    results = pd.DataFrame(columns=['Epochs', 'Hidden Units', 'RMSE Train', 'RMSE Test'])\n",
    "    for n_epochs in epochs_list:        \n",
    "        for nh in nh_list:\n",
    "            nnet = nn.NeuralNetwork(Xtrain.shape[1], nh, n_outputs)\n",
    "            nnet.train(Xtrain, Ttrain, n_epochs)\n",
    "            Ytrain = nnet.use(Xtrain)\n",
    "            Ytest = nnet.use(Xtest)\n",
    "            results.loc[len(results)] = [n_epochs, nh, rmse(Ytrain, Ttrain), \n",
    "                                         rmse(Ytest, Ttest)]\n",
    "            if verbose:\n",
    "                display(results.tail(1))  # not print\n",
    "    return results"
   ]
  },
  {
   "cell_type": "code",
   "execution_count": 4,
   "metadata": {},
   "outputs": [
    {
     "data": {
      "text/plain": [
       "[[0],\n",
       " [1],\n",
       " [1, 1],\n",
       " [1, 1, 1],\n",
       " [1, 1, 1, 1],\n",
       " [1, 1, 1, 1, 1],\n",
       " [5],\n",
       " [5, 5],\n",
       " [5, 5, 5],\n",
       " [5, 5, 5, 5],\n",
       " [5, 5, 5, 5, 5],\n",
       " [10],\n",
       " [10, 10],\n",
       " [10, 10, 10],\n",
       " [10, 10, 10, 10],\n",
       " [10, 10, 10, 10, 10],\n",
       " [20],\n",
       " [20, 20],\n",
       " [20, 20, 20],\n",
       " [20, 20, 20, 20],\n",
       " [20, 20, 20, 20, 20],\n",
       " [50],\n",
       " [50, 50],\n",
       " [50, 50, 50],\n",
       " [50, 50, 50, 50],\n",
       " [50, 50, 50, 50, 50]]"
      ]
     },
     "execution_count": 4,
     "metadata": {},
     "output_type": "execute_result"
    }
   ],
   "source": [
    "hiddens = [[0]] + [[nu] * nl for nu in [1, 5, 10, 20, 50] for nl in [1, 2, 3, 4, 5]]\n",
    "hiddens"
   ]
  },
  {
   "cell_type": "markdown",
   "metadata": {},
   "source": [
    "### Experiments with Automobile Data"
   ]
  },
  {
   "cell_type": "markdown",
   "metadata": {},
   "source": [
    "Using the automobile mpg data we have used before, we will set it up to use \n",
    "\n",
    "  * cylinders,\n",
    "  * displacement,\n",
    "  * weight,\n",
    "  * acceleration,\n",
    "  * year, and\n",
    "  * origin\n",
    "  \n",
    "as input variables, and\n",
    "\n",
    "  * mpg\n",
    "  * horsepower\n",
    "  \n",
    "as output variables."
   ]
  },
  {
   "cell_type": "markdown",
   "metadata": {},
   "source": [
    "## Experiments with relu activation function"
   ]
  },
  {
   "cell_type": "markdown",
   "metadata": {},
   "source": [
    "Now define the ```NeuralNetwork_relu``` class by extending ```NeuralNetwork``` and simply redefine the ```activation``` and ```activation_derivative``` methods.  Feel free to search the net for examples of how to define these functions.  Try keywords like *relu derivative python*.  Acknowledge the sites that you find helpful.\n",
    "\n",
    "Your `NeuralNetwork_relu` class must be defined in your `neuralnetworks.py` file.\n",
    "\n",
    "Write and run the code that repeats the above experiments with the auto-mpg data using `NeuralNetwork_relu` to evaluate different hidden layer structures and different numbers of epochs. To accomplish this, define a new function named `run_parameters_act` that has a new fifth argument to `run_parameters` called `activation_functions` that is passed a list with value `['tanh']`, `['relu']`, or `['tanh', 'relu']` to try both activation functions. In the body of `run_parameters_act` you must create and train the appropriate neural network based on the value of that parameter. The pandas DataFrame returned by `run_parameters_act` must include a column named 'Activation'.\n",
    "\n",
    "Sort the results by the 'RMSE Test'.  Pick one value of number of epochs that tends to produce the lowest 'RMSE Test' and select all rows of results for that number of epochs.  Make one plot that shows the 'RMSE Test' versus hidden layer structure with one curve for 'tanh' and one curve for 'relu'.  Use the `plt.legend` function to add a legend to the plot."
   ]
  },
  {
   "cell_type": "markdown",
   "metadata": {},
   "source": [
    "## run_parameters_act function"
   ]
  },
  {
   "cell_type": "code",
   "execution_count": 5,
   "metadata": {
    "collapsed": true
   },
   "outputs": [],
   "source": [
    "def run_parameters_act(Xtrain, Ttrain, Xtest, Ttest, activation_functions, epochs_list, nh_list, verbose=False):\n",
    "    \n",
    "    n_inputs = Xtrain.shape[1]  # number of columns in X\n",
    "    n_outputs = Ttrain.shape[1]  # number of columns in T\n",
    "\n",
    "    # The pandas DataFrame returned by run_parameters_act must include a column named 'Activation'\n",
    "    results = pd.DataFrame(columns=['Activation','Epochs', 'Hidden Units', 'RMSE Train', 'RMSE Test'])\n",
    "    for n_epochs in epochs_list:        \n",
    "        for nh in nh_list:\n",
    "            # create and train the appropriate neural network based on the value of that parameter\n",
    "            for af in activation_functions:\n",
    "                if af == 'tanh':\n",
    "                    nnet = nn.NeuralNetwork(Xtrain.shape[1], nh, n_outputs)\n",
    "                    nnet.train(Xtrain, Ttrain, n_epochs)\n",
    "                    Ytrain = nnet.use(Xtrain)\n",
    "                    Ytest = nnet.use(Xtest)\n",
    "                    results.loc[len(results)] = [af, n_epochs, nh, rmse(Ytrain, Ttrain), \n",
    "                                                 rmse(Ytest, Ttest)]\n",
    "                    if verbose:\n",
    "                        display(results.tail(1))  # not print\n",
    "                elif af == 'relu':\n",
    "                    nnet_relu = nn.NeuralNetwork_relu(Xtrain.shape[1], nh, n_outputs)\n",
    "                    nnet_relu.train(Xtrain, Ttrain, n_epochs)\n",
    "                    Ytrain = nnet_relu.use(Xtrain)\n",
    "                    Ytest = nnet_relu.use(Xtest)\n",
    "                    results.loc[len(results)] = [af, n_epochs, nh, rmse(Ytrain, Ttrain), \n",
    "                                                 rmse(Ytest, Ttest)]\n",
    "                    if verbose:\n",
    "                        display(results.tail(1))  # not print\n",
    "\n",
    "    return results"
   ]
  },
  {
   "cell_type": "markdown",
   "metadata": {},
   "source": [
    "## Create our Auto Data"
   ]
  },
  {
   "cell_type": "code",
   "execution_count": 6,
   "metadata": {
    "collapsed": true
   },
   "outputs": [],
   "source": [
    "def makeMPGData(filename='auto-mpg.data'):\n",
    "    def missingIsNan(s):\n",
    "        return np.nan if s == b'?' else float(s)\n",
    "    data = np.loadtxt(filename, usecols=range(8), converters={3: missingIsNan})\n",
    "    print(\"Read\",data.shape[0],\"rows and\",data.shape[1],\"columns from\",filename)\n",
    "    goodRowsMask = np.isnan(data).sum(axis=1) == 0\n",
    "    data = data[goodRowsMask,:]\n",
    "    print(\"After removing rows containing question marks, data has\",data.shape[0],\"rows and\",data.shape[1],\"columns.\")\n",
    "    X = data[:,1:]\n",
    "    X = np.delete(X,2,axis=1)\n",
    "    T = data[:,0:1]\n",
    "    T = np.append(T,data[:,3:4],axis=1)\n",
    "    Xnames =  ['bias', 'cylinders','displacement','weight','acceleration','year','origin']\n",
    "    Tname = ['mpg','horsepower']\n",
    "    return X,T,Xnames,Tname"
   ]
  },
  {
   "cell_type": "code",
   "execution_count": 7,
   "metadata": {
    "collapsed": true
   },
   "outputs": [],
   "source": [
    "# list of number of epochs we can test with\n",
    "number_of_epochs = [50, 500, 5000]"
   ]
  },
  {
   "cell_type": "code",
   "execution_count": 8,
   "metadata": {},
   "outputs": [
    {
     "name": "stdout",
     "output_type": "stream",
     "text": [
      "Read 398 rows and 8 columns from auto-mpg.data\n",
      "After removing rows containing question marks, data has 392 rows and 8 columns.\n"
     ]
    }
   ],
   "source": [
    "Xa,Ta,Xanames,Taname = makeMPGData()"
   ]
  },
  {
   "cell_type": "code",
   "execution_count": 9,
   "metadata": {
    "collapsed": true
   },
   "outputs": [],
   "source": [
    "naRows = Xa.shape[0]\n",
    "arows = np.arange(naRows)\n",
    "np.random.shuffle(arows)\n",
    "naTrain = int(naRows * 0.8)\n",
    "atrainRows = arows[:naTrain]\n",
    "atestRows = arows[naTrain:]\n",
    "Xatrain, Tatrain = Xa[atrainRows, :], Ta[atrainRows, :]\n",
    "Xatest, Tatest = Xa[atestRows, :], Ta[atestRows, :]"
   ]
  },
  {
   "cell_type": "code",
   "execution_count": 10,
   "metadata": {},
   "outputs": [
    {
     "name": "stdout",
     "output_type": "stream",
     "text": [
      "Read 398 rows and 8 columns from auto-mpg.data\n",
      "After removing rows containing question marks, data has 392 rows and 8 columns.\n"
     ]
    }
   ],
   "source": [
    "X_auto, T_auto, Xnames_auto, Tname_auto = makeMPGData()"
   ]
  },
  {
   "cell_type": "code",
   "execution_count": 11,
   "metadata": {
    "collapsed": true
   },
   "outputs": [],
   "source": [
    "n_autoRows = X_auto.shape[0]\n",
    "auto_rows = np.arange(n_autoRows)\n",
    "np.random.shuffle(auto_rows)\n",
    "n_autoTrain = int(n_autoRows * 0.8)\n",
    "train_autoRows = auto_rows[:n_autoTrain]\n",
    "test_autoRows = auto_rows[n_autoTrain:]\n",
    "X_autotrain, T_autotrain = X_auto[train_autoRows, :], T_auto[train_autoRows, :]\n",
    "X_autotest, T_autotest = X_auto[test_autoRows, :], T_auto[test_autoRows, :]"
   ]
  },
  {
   "cell_type": "code",
   "execution_count": 12,
   "metadata": {},
   "outputs": [
    {
     "data": {
      "text/plain": [
       "((313, 6), (313, 2), (79, 6), (79, 2))"
      ]
     },
     "execution_count": 12,
     "metadata": {},
     "output_type": "execute_result"
    }
   ],
   "source": [
    "X_autotrain.shape, T_autotrain.shape, X_autotest.shape, T_autotest.shape"
   ]
  },
  {
   "cell_type": "markdown",
   "metadata": {},
   "source": [
    "## tanh"
   ]
  },
  {
   "cell_type": "markdown",
   "metadata": {},
   "source": [
    "Let's run the new function for the data we have created with tanh as our activation function paramater."
   ]
  },
  {
   "cell_type": "code",
   "execution_count": 13,
   "metadata": {},
   "outputs": [
    {
     "name": "stdout",
     "output_type": "stream",
     "text": [
      "1.98991295418e-17\n",
      "1.04696050993e-16\n",
      "1.26436437851e-16\n"
     ]
    }
   ],
   "source": [
    "results_tanh = run_parameters_act(X_autotrain, T_autotrain, X_autotest, T_autotest, ['tanh'], number_of_epochs, hiddens, verbose=False)"
   ]
  },
  {
   "cell_type": "markdown",
   "metadata": {},
   "source": [
    "Let's take a look at the results from our run_parameters_act with tanh:"
   ]
  },
  {
   "cell_type": "code",
   "execution_count": 14,
   "metadata": {},
   "outputs": [
    {
     "name": "stdout",
     "output_type": "stream",
     "text": [
      "   Activation Epochs          Hidden Units  RMSE Train  RMSE Test\n",
      "35       tanh    500          [5, 5, 5, 5]    6.044175   6.960822\n",
      "58       tanh   5000                   [5]    6.426087   7.321918\n",
      "51       tanh    500  [50, 50, 50, 50, 50]    4.547827   7.481526\n",
      "49       tanh    500          [50, 50, 50]    3.565010   7.690993\n",
      "63       tanh   5000                  [10]    6.131975   7.858405\n",
      "42       tanh    500                  [20]    5.234825   7.898462\n",
      "32       tanh    500                   [5]    6.792746   7.923117\n",
      "33       tanh    500                [5, 5]    6.685467   7.959853\n",
      "44       tanh    500          [20, 20, 20]    3.812341   8.048537\n",
      "59       tanh   5000                [5, 5]    6.501929   8.077330\n",
      "22       tanh     50              [50, 50]    7.164217   8.095971\n",
      "46       tanh    500  [20, 20, 20, 20, 20]    3.998182   8.177877\n",
      "23       tanh     50          [50, 50, 50]    7.077690   8.193111\n",
      "45       tanh    500      [20, 20, 20, 20]    4.210869   8.206209\n",
      "24       tanh     50      [50, 50, 50, 50]    7.321818   8.211059\n",
      "19       tanh     50      [20, 20, 20, 20]    7.375533   8.212448\n",
      "7        tanh     50                [5, 5]    7.786486   8.214060\n",
      "50       tanh    500      [50, 50, 50, 50]    3.899377   8.214111\n",
      "21       tanh     50                  [50]    7.175013   8.279130\n",
      "20       tanh     50  [20, 20, 20, 20, 20]    7.792737   8.379976\n",
      "13       tanh     50          [10, 10, 10]    7.236177   8.382359\n",
      "8        tanh     50             [5, 5, 5]    8.036913   8.391656\n",
      "18       tanh     50          [20, 20, 20]    7.407450   8.395237\n",
      "16       tanh     50                  [20]    7.610779   8.439717\n",
      "12       tanh     50              [10, 10]    7.920476   8.487880\n",
      "17       tanh     50              [20, 20]    7.372171   8.530401\n",
      "14       tanh     50      [10, 10, 10, 10]    7.419108   8.549564\n",
      "15       tanh     50  [10, 10, 10, 10, 10]    8.325499   8.601413\n",
      "48       tanh    500              [50, 50]    3.473253   8.612499\n",
      "61       tanh   5000          [5, 5, 5, 5]    5.328681   8.649442\n",
      "37       tanh    500                  [10]    6.595810   8.664051\n",
      "11       tanh     50                  [10]    7.888678   8.682708\n",
      "68       tanh   5000                  [20]    4.739018   8.773160\n",
      "47       tanh    500                  [50]    3.971446   8.810872\n",
      "25       tanh     50  [50, 50, 50, 50, 50]    8.399914   8.821763\n",
      "6        tanh     50                   [5]    7.614808   8.966985\n",
      "34       tanh    500             [5, 5, 5]    5.783108   9.046396\n",
      "62       tanh   5000       [5, 5, 5, 5, 5]    4.973347   9.066348\n",
      "36       tanh    500       [5, 5, 5, 5, 5]    5.830955   9.278925\n",
      "40       tanh    500      [10, 10, 10, 10]    4.486119   9.332585\n",
      "0        tanh     50                   [0]    8.829369   9.437523\n",
      "26       tanh    500                   [0]    8.829369   9.437523\n",
      "52       tanh   5000                   [0]    8.829369   9.437523\n",
      "9        tanh     50          [5, 5, 5, 5]    8.478125   9.506408\n",
      "39       tanh    500          [10, 10, 10]    4.371886   9.585527\n",
      "64       tanh   5000              [10, 10]    4.290783   9.628310\n",
      "43       tanh    500              [20, 20]    3.940117   9.958715\n",
      "41       tanh    500  [10, 10, 10, 10, 10]    4.326650  10.051069\n",
      "38       tanh    500              [10, 10]    4.823195  10.604790\n",
      "60       tanh   5000             [5, 5, 5]    5.418453  11.529325\n"
     ]
    }
   ],
   "source": [
    "print(results_tanh.sort_values('RMSE Test').head(50))"
   ]
  },
  {
   "cell_type": "markdown",
   "metadata": {},
   "source": [
    "For the number of epochs, it looks like a value of 500 gave the best results with the lowest RMSE Test value and generally makes up the higher placements on the list."
   ]
  },
  {
   "cell_type": "markdown",
   "metadata": {},
   "source": [
    "## relu"
   ]
  },
  {
   "cell_type": "markdown",
   "metadata": {},
   "source": [
    "Let's run the new function for the data we have created with tanh as our activation function paramater."
   ]
  },
  {
   "cell_type": "code",
   "execution_count": 15,
   "metadata": {},
   "outputs": [
    {
     "name": "stdout",
     "output_type": "stream",
     "text": [
      "8.30290554076e-17\n",
      "9.87735723088e-18\n",
      "3.96377629215e-24\n",
      "4.14807781715e-17\n",
      "1.40436843015e-16\n",
      "1.50749509038e-24\n",
      "4.11202988382e-24\n",
      "3.66027381375e-24\n",
      "1.17867712368e-18\n",
      "4.95545049914e-25\n"
     ]
    }
   ],
   "source": [
    "results_relu = run_parameters_act(X_autotrain, T_autotrain, X_autotest, T_autotest, ['relu'], number_of_epochs, hiddens, verbose=False)"
   ]
  },
  {
   "cell_type": "markdown",
   "metadata": {},
   "source": [
    "Let's take a look at the results from our run_parameters_act with relu:"
   ]
  },
  {
   "cell_type": "code",
   "execution_count": 16,
   "metadata": {},
   "outputs": [
    {
     "name": "stdout",
     "output_type": "stream",
     "text": [
      "   Activation Epochs          Hidden Units  RMSE Train  RMSE Test\n",
      "21       relu     50                  [50]    6.388398   7.709763\n",
      "68       relu   5000                  [20]    6.208456   7.737629\n",
      "47       relu    500                  [50]    5.037453   7.858190\n",
      "63       relu   5000                  [10]    6.548582   7.888028\n",
      "16       relu     50                  [20]    6.615549   8.028846\n",
      "74       relu   5000              [50, 50]    7.313034   8.089589\n",
      "22       relu     50              [50, 50]    7.712112   8.166948\n",
      "37       relu    500                  [10]    6.660688   8.195650\n",
      "73       relu   5000                  [50]    4.605349   8.335545\n",
      "48       relu    500              [50, 50]    7.379488   8.376117\n",
      "42       relu    500                  [20]    6.035252   8.531601\n",
      "6        relu     50                   [5]    7.680938   8.532658\n",
      "11       relu     50                  [10]    7.308519   8.559319\n",
      "32       relu    500                   [5]    7.527783   8.624501\n",
      "23       relu     50          [50, 50, 50]    8.360135   8.628805\n",
      "58       relu   5000                   [5]    7.843950   8.632384\n",
      "17       relu     50              [20, 20]    8.849834   9.274244\n",
      "49       relu    500          [50, 50, 50]    8.847652   9.351089\n",
      "70       relu   5000          [20, 20, 20]    9.119167   9.545431\n",
      "43       relu    500              [20, 20]    8.551221   9.663366\n",
      "12       relu     50              [10, 10]   10.169489  10.066503\n",
      "64       relu   5000              [10, 10]   10.499337  10.739860\n",
      "25       relu     50  [50, 50, 50, 50, 50]   10.980110  10.835636\n",
      "66       relu   5000      [10, 10, 10, 10]   11.249530  10.882673\n",
      "44       relu    500          [20, 20, 20]   11.003168  11.094122\n",
      "13       relu     50          [10, 10, 10]   10.619430  11.121040\n",
      "53       relu   5000                   [1]   10.342055  11.253584\n",
      "69       relu   5000              [20, 20]    9.913424  11.291038\n",
      "76       relu   5000      [50, 50, 50, 50]   11.271654  11.301590\n",
      "38       relu    500              [10, 10]   10.707121  11.327490\n",
      "39       relu    500          [10, 10, 10]   11.139341  11.496451\n",
      "27       relu    500                   [1]   10.519003  11.523401\n",
      "1        relu     50                   [1]   10.537009  11.545271\n",
      "67       relu   5000  [10, 10, 10, 10, 10]   13.450468  13.322503\n",
      "18       relu     50          [20, 20, 20]   12.619189  13.381953\n",
      "8        relu     50             [5, 5, 5]   14.428351  13.616043\n",
      "33       relu    500                [5, 5]   14.727143  14.497099\n",
      "59       relu   5000                [5, 5]   14.135961  14.860316\n",
      "60       relu   5000             [5, 5, 5]   14.054458  14.925860\n",
      "77       relu   5000  [50, 50, 50, 50, 50]   14.176125  14.941015\n",
      "65       relu   5000          [10, 10, 10]   14.084068  14.957946\n",
      "50       relu    500      [50, 50, 50, 50]   13.808795  14.983220\n",
      "46       relu    500  [20, 20, 20, 20, 20]   15.356784  15.192268\n",
      "75       relu   5000          [50, 50, 50]   16.330024  15.785411\n",
      "24       relu     50      [50, 50, 50, 50]   17.258885  16.074790\n",
      "55       relu   5000             [1, 1, 1]   19.257300  16.417354\n",
      "51       relu    500  [50, 50, 50, 50, 50]   15.836818  16.720895\n",
      "9        relu     50          [5, 5, 5, 5]   16.569882  17.248205\n",
      "71       relu   5000      [20, 20, 20, 20]   16.828834  17.714973\n",
      "19       relu     50      [20, 20, 20, 20]   16.159403  18.802325\n"
     ]
    }
   ],
   "source": [
    "print(results_relu.sort_values('RMSE Test').head(50))"
   ]
  },
  {
   "cell_type": "markdown",
   "metadata": {},
   "source": [
    "For the number of epochs, it looks like a value of 500 gave the best results with the lowest RMSE Test value and generally makes up the higher placements on the list."
   ]
  },
  {
   "cell_type": "markdown",
   "metadata": {},
   "source": [
    "## Plots"
   ]
  },
  {
   "cell_type": "markdown",
   "metadata": {},
   "source": [
    "Pick one value of number of epochs that tends to produce the lowest 'RMSE Test' and select all rows of results for that number of epochs. Make one plot that shows the 'RMSE Test' versus hidden layer structure with one curve for 'tanh' and one curve for 'relu'. Use the plt.legend function to add a legend to the plot."
   ]
  },
  {
   "cell_type": "markdown",
   "metadata": {},
   "source": [
    "When I repeated these tests with a wide number of epochs, I usually found 500 to give the best results for both activation functions. Thus it was chosen as the value for getting all of the values for when plotting the data."
   ]
  },
  {
   "cell_type": "code",
   "execution_count": 17,
   "metadata": {},
   "outputs": [
    {
     "name": "stdout",
     "output_type": "stream",
     "text": [
      "   Activation Epochs          Hidden Units  RMSE Train  RMSE Test\n",
      "26       tanh    500                   [0]    8.829369   9.437523\n",
      "27       tanh    500                   [1]   11.094006  12.088985\n",
      "28       tanh    500                [1, 1]   11.137407  12.121774\n",
      "29       tanh    500             [1, 1, 1]   11.173462  12.152475\n",
      "30       tanh    500          [1, 1, 1, 1]   11.165306  12.163771\n",
      "31       tanh    500       [1, 1, 1, 1, 1]   11.353428  12.417942\n",
      "32       tanh    500                   [5]    6.792746   7.923117\n",
      "33       tanh    500                [5, 5]    6.685467   7.959853\n",
      "34       tanh    500             [5, 5, 5]    5.783108   9.046396\n",
      "35       tanh    500          [5, 5, 5, 5]    6.044175   6.960822\n",
      "36       tanh    500       [5, 5, 5, 5, 5]    5.830955   9.278925\n",
      "37       tanh    500                  [10]    6.595810   8.664051\n",
      "38       tanh    500              [10, 10]    4.823195  10.604790\n",
      "39       tanh    500          [10, 10, 10]    4.371886   9.585527\n",
      "40       tanh    500      [10, 10, 10, 10]    4.486119   9.332585\n",
      "41       tanh    500  [10, 10, 10, 10, 10]    4.326650  10.051069\n",
      "42       tanh    500                  [20]    5.234825   7.898462\n",
      "43       tanh    500              [20, 20]    3.940117   9.958715\n",
      "44       tanh    500          [20, 20, 20]    3.812341   8.048537\n",
      "45       tanh    500      [20, 20, 20, 20]    4.210869   8.206209\n",
      "46       tanh    500  [20, 20, 20, 20, 20]    3.998182   8.177877\n",
      "47       tanh    500                  [50]    3.971446   8.810872\n",
      "48       tanh    500              [50, 50]    3.473253   8.612499\n",
      "49       tanh    500          [50, 50, 50]    3.565010   7.690993\n",
      "50       tanh    500      [50, 50, 50, 50]    3.899377   8.214111\n",
      "51       tanh    500  [50, 50, 50, 50, 50]    4.547827   7.481526\n",
      "   Activation Epochs          Hidden Units  RMSE Train  RMSE Test\n",
      "26       relu    500                   [0]   27.262715  28.568623\n",
      "27       relu    500                   [1]   10.519003  11.523401\n",
      "28       relu    500                [1, 1]   27.855666  27.353979\n",
      "29       relu    500             [1, 1, 1]   27.855666  27.353975\n",
      "30       relu    500          [1, 1, 1, 1]   27.855667  27.352433\n",
      "31       relu    500       [1, 1, 1, 1, 1]   27.855666  27.353979\n",
      "32       relu    500                   [5]    7.527783   8.624501\n",
      "33       relu    500                [5, 5]   14.727143  14.497099\n",
      "34       relu    500             [5, 5, 5]   22.020919  20.235661\n",
      "35       relu    500          [5, 5, 5, 5]   23.252081  23.790762\n",
      "36       relu    500       [5, 5, 5, 5, 5]   27.846294  27.341617\n",
      "37       relu    500                  [10]    6.660688   8.195650\n",
      "38       relu    500              [10, 10]   10.707121  11.327490\n",
      "39       relu    500          [10, 10, 10]   11.139341  11.496451\n",
      "40       relu    500      [10, 10, 10, 10]   26.173471  25.009227\n",
      "41       relu    500  [10, 10, 10, 10, 10]   27.842687  27.304088\n",
      "42       relu    500                  [20]    6.035252   8.531601\n",
      "43       relu    500              [20, 20]    8.551221   9.663366\n",
      "44       relu    500          [20, 20, 20]   11.003168  11.094122\n",
      "45       relu    500      [20, 20, 20, 20]   28.302930  25.614828\n",
      "46       relu    500  [20, 20, 20, 20, 20]   15.356784  15.192268\n",
      "47       relu    500                  [50]    5.037453   7.858190\n",
      "48       relu    500              [50, 50]    7.379488   8.376117\n",
      "49       relu    500          [50, 50, 50]    8.847652   9.351089\n",
      "50       relu    500      [50, 50, 50, 50]   13.808795  14.983220\n",
      "51       relu    500  [50, 50, 50, 50, 50]   15.836818  16.720895\n"
     ]
    }
   ],
   "source": [
    "tanh_results_data = results_tanh.loc[(results_tanh['Epochs'] == 500)]\n",
    "print(tanh_results_data)\n",
    "\n",
    "relu_results_data = results_relu.loc[(results_relu['Epochs'] == 500)]\n",
    "print(relu_results_data)\n",
    "\n",
    "tanh_plotter = np.array(tanh_results_data['RMSE Test'])\n",
    "relu_plotter = np.array(relu_results_data['RMSE Test'])"
   ]
  },
  {
   "cell_type": "code",
   "execution_count": 18,
   "metadata": {},
   "outputs": [
    {
     "data": {
      "image/png": "[encoded data removed]",
      "text/plain": [
       "<matplotlib.figure.Figure at 0xa301c50>"
      ]
     },
     "metadata": {},
     "output_type": "display_data"
    }
   ],
   "source": [
    "plotter_array_tanh = np.array(tanh_results_data['RMSE Test'])\n",
    "plotter_array_relu = np.array(relu_results_data['RMSE Test'])\n",
    "plt.figure(figsize=(10, 10))\n",
    "plt.plot(plotter_array_tanh, 'o-')\n",
    "plt.plot(plotter_array_relu, 'o-')\n",
    "plt.legend(('tanh', 'relu'))\n",
    "plt.xticks(range(plotter_array_tanh.shape[0]), hiddens, rotation=30, horizontalalignment='right')\n",
    "plt.xlabel('Hidden Layers Structure')\n",
    "plt.grid(True)"
   ]
  },
  {
   "cell_type": "markdown",
   "metadata": {},
   "source": [
    "## Analysis of results"
   ]
  },
  {
   "cell_type": "markdown",
   "metadata": {},
   "source": [
    "Looking at the results, it looks like the gap between the tanh and relu activation functions is very wide. When using relu, the RMSE test tends to be either higher using certain Hidden Layers with what is the best Number of Epochs and will jump down to much lower values when tending to use fewer Hidden Layers.\n",
    "\n",
    "On the other hand, tanh as an activation function is overall much lower for this Number of Epochs when it comes to the RMSE Test being lower. \n",
    "\n",
    "The lowest RMSE Test for tanh is when Hidden Layers are at [5, 5, 5].\n",
    "\n",
    "The lowest RMSE Test for relu is when Hidden Layers are at [20].\n",
    "\n",
    "Overall it looks like we get lower RMSE Test values using the tanh activation function. Even the lowest value for the relu activation function still never got as low as tanh did, and with the results for tanh being so dynamic it makes it a fairly unreliable method to use for the purposes of this assignment, though with different epochs we may get a different result."
   ]
  },
  {
   "cell_type": "markdown",
   "metadata": {},
   "source": [
    "## Grading and Check-in"
   ]
  },
  {
   "cell_type": "markdown",
   "metadata": {},
   "source": [
    "Your notebook will be run and graded automatically. Test this grading process by first downloading [A3grader.tar](http://www.cs.colostate.edu/~anderson/cs445/notebooks/A3grader.tar) and extract `A3grader.py` from it. Run the code in the following cell to demonstrate an example grading session. You should see a perfect execution score of  80 / 80 if your functions and class are defined correctly. The remaining 20 points will be based on the results you obtain from the comparisons of hidden layer structures and numbers of training iterations on the automobile data.\n",
    "\n",
    "For the grading script to run correctly, you must first name this notebook as `Lastname-A3.ipynb` with `Lastname` being your last name, and then save this notebook. Define both neural network classes, `NeuralNetwork` and `NeuralNetwork_relu` in the file named `neuralnetworks.py`.\n",
    "\n",
    "Combine your notebook and `neuralnetwork.py` into one zip file or tar file.  Name your tar file `Lastname-A3.tar` or your zip file `Lastname-A3.zip`.  Check in your tar or zip file using the `Assignment 3` link in Canvas.\n",
    "\n",
    "A different, but similar, grading script will be used to grade your checked-in notebook. It will include other tests."
   ]
  },
  {
   "cell_type": "code",
   "execution_count": 19,
   "metadata": {},
   "outputs": [
    {
     "name": "stdout",
     "output_type": "stream",
     "text": [
      "\n",
      "======================= Code Execution =======================\n",
      "\n",
      "Extracting python code from notebook named 'Kielman-A3.ipynb' and storing in notebookcode.py\n",
      "Removing all statements that are not function or class defs or import statements.\n",
      "\n",
      "Testing:\n",
      "import neuralnetworks as nn\n",
      "nnet = nn.NeuralNetwork(4, [10], 1)\n",
      "acts = nnet.activation(np.array([-0.5, 1.5]))\n",
      "\n",
      "--- 10/10 points. nnet.activation() is correct.\n",
      "\n",
      "Testing:\n",
      "dacts = nnet.activation_derivative([-0.46211716  0.90514825])\n",
      "\n",
      "--- 10/10 points. nnet.activation_derivative() is correct.\n",
      "\n",
      "Testing:\n",
      "import neuralnetworks as nn\n",
      "nnet_relu = nn.NeuralNetwork_relu(4, [10], 1)\n",
      "acts = nnet_reul.activation(np.array([-0.5, 1.5]))\n",
      "\n",
      "--- 10/10 points. nnet.activation() is correct.\n",
      "\n",
      "Testing:\n",
      "dacts = nnet_relu.activation_derivative([ 0.   1.5])\n",
      "\n",
      "--- 10/10 points. nnet.activation_derivative() is correct.\n",
      "\n",
      "Testing:\n",
      "import subprocess\n",
      "subprocess.call(['curl -O www.cs.colostate.edu/~anderson/cs445/notebooks/machine.data'], shell=True)\n",
      "\n",
      "data = np.loadtxt('machine.data', delimiter=',', usecols=range(2, 10))\n",
      "X = data[:, :4]\n",
      "T = data[:, -2:]\n",
      "Xtrain = X[20:60, :]\n",
      "Ttrain = T[20:60, :]\n",
      "Xtest = X[70:100:, :]\n",
      "Ttest = T[70:100:, :]\n",
      "\n",
      "results = run_parameters_act(Xtrain, Ttrain, Xtest, Ttest, ['tanh', 'relu'],\n",
      "                             [1, 1000], [[2], [100]], verbose=False)\n",
      "results = results.sort_values('RMSE Test')\n",
      "print(results)\n",
      "  Activation Epochs Hidden Units  RMSE Train   RMSE Test\n",
      "3       relu      1        [100]   35.749895   42.117889\n",
      "4       tanh   1000          [2]   18.294525   62.281138\n",
      "5       relu   1000          [2]   31.284440   74.174324\n",
      "2       tanh      1        [100]   33.930333   82.912545\n",
      "0       tanh      1          [2]   44.640763   97.774614\n",
      "7       relu   1000        [100]   11.091168  106.677350\n",
      "1       relu      1          [2]   52.623439  110.898395\n",
      "6       tanh   1000        [100]    8.017471  199.267112\n",
      "\n",
      "--- 40/40 points. Best activation function is correctly 'relu'\n",
      "\n",
      "C:\\Users\\Admin\\Spring 2019 Classes\\CS445 - Intro to Machine Learning\\HW3\\Daniel\\Kielman-A3 Execution Grade is 80 / 80\n",
      "\n",
      " Remaining 20 points will be based on your text descriptions of results and plots.\n",
      "\n",
      "C:\\Users\\Admin\\Spring 2019 Classes\\CS445 - Intro to Machine Learning\\HW3\\Daniel\\Kielman-A3 FINAL GRADE is   / 100\n",
      "\n",
      "C:\\Users\\Admin\\Spring 2019 Classes\\CS445 - Intro to Machine Learning\\HW3\\Daniel\\Kielman-A3 EXTRA CREDIT is   / 1\n"
     ]
    },
    {
     "data": {
      "text/plain": [
       "<matplotlib.figure.Figure at 0x5103e48>"
      ]
     },
     "metadata": {},
     "output_type": "display_data"
    }
   ],
   "source": [
    "%run -i A3grader.py"
   ]
  },
  {
   "cell_type": "markdown",
   "metadata": {},
   "source": [
    "## Extra Credit"
   ]
  },
  {
   "cell_type": "markdown",
   "metadata": {},
   "source": [
    "Create yet another version of the neural network class, called ```NeuralNetwork_logistic```, that uses the `logistic` activation function and its derivative, and repeat the above comparisons."
   ]
  }
 ],
 "metadata": {
  "kernelspec": {
   "display_name": "Python 3",
   "language": "python",
   "name": "python3"
  },
  "language_info": {
   "codemirror_mode": {
    "name": "ipython",
    "version": 3
   },
   "file_extension": ".py",
   "mimetype": "text/x-python",
   "name": "python",
   "nbconvert_exporter": "python",
   "pygments_lexer": "ipython3",
   "version": "3.6.1"
  }
 },
 "nbformat": 4,
 "nbformat_minor": 2
}
